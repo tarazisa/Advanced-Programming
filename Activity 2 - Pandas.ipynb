{
 "cells": [
  {
   "cell_type": "code",
   "execution_count": 47,
   "metadata": {},
   "outputs": [],
   "source": [
    "import pandas as pd\n",
    "import numpy as np"
   ]
  },
  {
   "cell_type": "markdown",
   "metadata": {},
   "source": [
    "#### Exercise 1"
   ]
  },
  {
   "cell_type": "code",
   "execution_count": 6,
   "metadata": {},
   "outputs": [
    {
     "name": "stdout",
     "output_type": "stream",
     "text": [
      "0    elephant\n",
      "1       panda\n",
      "2       mouse\n",
      "3     penguin\n",
      "dtype: object\n"
     ]
    }
   ],
   "source": [
    "#1. A list\n",
    "animals  = ['elephant', 'panda', 'mouse', 'penguin']\n",
    "a = pd.Series(animals)\n",
    "print(a)"
   ]
  },
  {
   "cell_type": "code",
   "execution_count": 9,
   "metadata": {},
   "outputs": [
    {
     "name": "stdout",
     "output_type": "stream",
     "text": [
      "    0   1   2     3     4\n",
      "0  1A  2A  3A    4A  None\n",
      "1  1B  2B  3B    4B    5B\n",
      "2  1C  2C  3C  None  None\n"
     ]
    }
   ],
   "source": [
    "#2 matrix\n",
    "matrix = [[\"1A\", \"2A\", \"3A\",  \"4A\"],\n",
    "          [\"1B\", \"2B\", \"3B\", \"4B\", \"5B\"],\n",
    "          [\"1C\", \"2C\", \"3C\"]]\n",
    "a = pd.DataFrame(matrix)\n",
    "print(a)"
   ]
  },
  {
   "cell_type": "code",
   "execution_count": 10,
   "metadata": {},
   "outputs": [
    {
     "name": "stdout",
     "output_type": "stream",
     "text": [
      "0     Apples\n",
      "1    Oranges\n",
      "2    Bananas\n",
      "dtype: object\n"
     ]
    }
   ],
   "source": [
    "#3 Tuples\n",
    "fruit = (\"Apples\", \"Oranges\", \"Bananas\")\n",
    "a = pd.Series(fruit)\n",
    "print(a)"
   ]
  },
  {
   "cell_type": "code",
   "execution_count": 13,
   "metadata": {},
   "outputs": [
    {
     "ename": "TypeError",
     "evalue": "'set' type is unordered",
     "output_type": "error",
     "traceback": [
      "\u001b[0;31m---------------------------------------------------------------------------\u001b[0m",
      "\u001b[0;31mTypeError\u001b[0m                                 Traceback (most recent call last)",
      "\u001b[0;32m<ipython-input-13-b82f8065e8e4>\u001b[0m in \u001b[0;36m<module>\u001b[0;34m\u001b[0m\n\u001b[1;32m      4\u001b[0m \u001b[0mbyThree\u001b[0m  \u001b[0;34m=\u001b[0m \u001b[0;34m{\u001b[0m\u001b[0;36m3\u001b[0m\u001b[0;34m,\u001b[0m\u001b[0;36m6\u001b[0m\u001b[0;34m,\u001b[0m\u001b[0;36m9\u001b[0m\u001b[0;34m,\u001b[0m\u001b[0;36m12\u001b[0m\u001b[0;34m,\u001b[0m\u001b[0;36m15\u001b[0m\u001b[0;34m}\u001b[0m\u001b[0;34m\u001b[0m\u001b[0;34m\u001b[0m\u001b[0m\n\u001b[1;32m      5\u001b[0m \u001b[0mnumbers\u001b[0m \u001b[0;34m=\u001b[0m \u001b[0;34m{\u001b[0m\u001b[0;36m1\u001b[0m\u001b[0;34m,\u001b[0m\u001b[0;36m2\u001b[0m\u001b[0;34m,\u001b[0m\u001b[0;36m3\u001b[0m\u001b[0;34m,\u001b[0m\u001b[0;36m4\u001b[0m\u001b[0;34m,\u001b[0m\u001b[0;36m5\u001b[0m\u001b[0;34m,\u001b[0m\u001b[0;36m6\u001b[0m\u001b[0;34m,\u001b[0m\u001b[0;36m7\u001b[0m\u001b[0;34m,\u001b[0m\u001b[0;36m8\u001b[0m\u001b[0;34m,\u001b[0m\u001b[0;36m9\u001b[0m\u001b[0;34m,\u001b[0m\u001b[0;36m10\u001b[0m\u001b[0;34m}\u001b[0m\u001b[0;34m\u001b[0m\u001b[0;34m\u001b[0m\u001b[0m\n\u001b[0;32m----> 6\u001b[0;31m \u001b[0ma\u001b[0m \u001b[0;34m=\u001b[0m \u001b[0mpd\u001b[0m\u001b[0;34m.\u001b[0m\u001b[0mSeries\u001b[0m\u001b[0;34m(\u001b[0m\u001b[0meven\u001b[0m\u001b[0;34m)\u001b[0m\u001b[0;34m\u001b[0m\u001b[0;34m\u001b[0m\u001b[0m\n\u001b[0m\u001b[1;32m      7\u001b[0m \u001b[0mb\u001b[0m \u001b[0;34m=\u001b[0m \u001b[0mpd\u001b[0m\u001b[0;34m.\u001b[0m\u001b[0mSeries\u001b[0m\u001b[0;34m(\u001b[0m\u001b[0modd\u001b[0m\u001b[0;34m)\u001b[0m\u001b[0;34m\u001b[0m\u001b[0;34m\u001b[0m\u001b[0m\n\u001b[1;32m      8\u001b[0m \u001b[0mc\u001b[0m \u001b[0;34m=\u001b[0m \u001b[0mpd\u001b[0m\u001b[0;34m.\u001b[0m\u001b[0mSeries\u001b[0m\u001b[0;34m(\u001b[0m\u001b[0mbyThree\u001b[0m\u001b[0;34m)\u001b[0m\u001b[0;34m\u001b[0m\u001b[0;34m\u001b[0m\u001b[0m\n",
      "\u001b[0;32m~/opt/anaconda3/lib/python3.8/site-packages/pandas/core/series.py\u001b[0m in \u001b[0;36m__init__\u001b[0;34m(self, data, index, dtype, name, copy, fastpath)\u001b[0m\n\u001b[1;32m    272\u001b[0m                 \u001b[0;32mpass\u001b[0m\u001b[0;34m\u001b[0m\u001b[0;34m\u001b[0m\u001b[0m\n\u001b[1;32m    273\u001b[0m             \u001b[0;32melif\u001b[0m \u001b[0misinstance\u001b[0m\u001b[0;34m(\u001b[0m\u001b[0mdata\u001b[0m\u001b[0;34m,\u001b[0m \u001b[0;34m(\u001b[0m\u001b[0mset\u001b[0m\u001b[0;34m,\u001b[0m \u001b[0mfrozenset\u001b[0m\u001b[0;34m)\u001b[0m\u001b[0;34m)\u001b[0m\u001b[0;34m:\u001b[0m\u001b[0;34m\u001b[0m\u001b[0;34m\u001b[0m\u001b[0m\n\u001b[0;32m--> 274\u001b[0;31m                 \u001b[0;32mraise\u001b[0m \u001b[0mTypeError\u001b[0m\u001b[0;34m(\u001b[0m\u001b[0;34mf\"'{type(data).__name__}' type is unordered\"\u001b[0m\u001b[0;34m)\u001b[0m\u001b[0;34m\u001b[0m\u001b[0;34m\u001b[0m\u001b[0m\n\u001b[0m\u001b[1;32m    275\u001b[0m             \u001b[0;32melif\u001b[0m \u001b[0misinstance\u001b[0m\u001b[0;34m(\u001b[0m\u001b[0mdata\u001b[0m\u001b[0;34m,\u001b[0m \u001b[0mABCSparseArray\u001b[0m\u001b[0;34m)\u001b[0m\u001b[0;34m:\u001b[0m\u001b[0;34m\u001b[0m\u001b[0;34m\u001b[0m\u001b[0m\n\u001b[1;32m    276\u001b[0m                 \u001b[0;31m# handle sparse passed here (and force conversion)\u001b[0m\u001b[0;34m\u001b[0m\u001b[0;34m\u001b[0m\u001b[0;34m\u001b[0m\u001b[0m\n",
      "\u001b[0;31mTypeError\u001b[0m: 'set' type is unordered"
     ]
    }
   ],
   "source": [
    "#4 Sets\n",
    "even = {2,4,6,8,10}\n",
    "odd = {1,3,5,7,9}\n",
    "byThree  = {3,6,9,12,15}\n",
    "numbers = {1,2,3,4,5,6,7,8,9,10}\n",
    "a = pd.Series(even)\n",
    "b = pd.Series(odd)\n",
    "c = pd.Series(byThree)\n",
    "d = pd.Series(numbers)\n",
    "print(a)\n",
    "print(b)\n",
    "print(c)\n",
    "print(d)"
   ]
  },
  {
   "cell_type": "code",
   "execution_count": 12,
   "metadata": {},
   "outputs": [
    {
     "name": "stdout",
     "output_type": "stream",
     "text": [
      "name      Frank\n",
      "age          56\n",
      "height       74\n",
      "dtype: object\n"
     ]
    }
   ],
   "source": [
    "#5 Dicts\n",
    "person = {'name': 'Frank', 'age':56, 'height': 6 * 12 + 2}\n",
    "a = pd.Series(person)\n",
    "print(a)"
   ]
  },
  {
   "cell_type": "markdown",
   "metadata": {},
   "source": [
    "#### Exercise 2"
   ]
  },
  {
   "cell_type": "code",
   "execution_count": 131,
   "metadata": {},
   "outputs": [
    {
     "name": "stdout",
     "output_type": "stream",
     "text": [
      "    Apr-18  May-18  Jun-18  Jul-18  Aug-18  Sep-18  Oct-18  Nov-18  Dec-18  \\\n",
      "L3     390     345     379     353     365     326     363     459     539   \n",
      "L1     392     377     347     395     330     332     340     446     573   \n",
      "P2     250     270     300     398     376     382     306     489     552   \n",
      "N6     460     480     450     310     392     383     314     402     640   \n",
      "N4     460     480     450     387     388     320     337     478     676   \n",
      "B8     470     510     360     472     423     385     353     464     598   \n",
      "\n",
      "    Jan-19  Feb-19  Mar-19  \n",
      "L3     474     340     343  \n",
      "L1     464     223     216  \n",
      "P2     488     298     269  \n",
      "N6     495     215     243  \n",
      "N4     408     338     263  \n",
      "B8     419     459     659  \n"
     ]
    }
   ],
   "source": [
    "df = pd.read_csv(\"SalesData.csv\", index_col=0)\n",
    "print(df)"
   ]
  },
  {
   "cell_type": "code",
   "execution_count": 132,
   "metadata": {},
   "outputs": [
    {
     "name": "stdout",
     "output_type": "stream",
     "text": [
      "Nov-18    953\n",
      "Feb-19    757\n",
      "Mar-19    928\n",
      "dtype: int64\n"
     ]
    }
   ],
   "source": [
    "# Sales for P2 and B8 in Nov-18, Feb-18 and Mar-19\n",
    "sales = df.loc[['P2','B8'],['Nov-18','Feb-19','Mar-19']].sum()\n",
    "print(sales)"
   ]
  },
  {
   "cell_type": "code",
   "execution_count": 133,
   "metadata": {},
   "outputs": [
    {
     "name": "stdout",
     "output_type": "stream",
     "text": [
      "Sales Figures for L3 and L1 \n",
      " Oct-18     703\n",
      "Nov-18     905\n",
      "Dec-18    1112\n",
      "dtype: int64\n",
      "Monhly Precentage Sales Change \n",
      " Oct-18         NaN\n",
      "Nov-18    0.287340\n",
      "Dec-18    0.228729\n",
      "dtype: float64\n"
     ]
    }
   ],
   "source": [
    "# third quarter (Oct-18 to Dec-18) what were the sales figures for London (L3 & 2) and what was the monthly percentage increase?\n",
    "sales = df.loc[['L3','L1'],['Oct-18','Nov-18','Dec-18']].sum()\n",
    "print(\"Sales Figures for L3 and L1 \\n\",sales)\n",
    "print(\"Monhly Precentage Sales Change \\n\", sales.pct_change())"
   ]
  },
  {
   "cell_type": "code",
   "execution_count": 134,
   "metadata": {},
   "outputs": [
    {
     "data": {
      "text/html": [
       "<div>\n",
       "<style scoped>\n",
       "    .dataframe tbody tr th:only-of-type {\n",
       "        vertical-align: middle;\n",
       "    }\n",
       "\n",
       "    .dataframe tbody tr th {\n",
       "        vertical-align: top;\n",
       "    }\n",
       "\n",
       "    .dataframe thead th {\n",
       "        text-align: right;\n",
       "    }\n",
       "</style>\n",
       "<table border=\"1\" class=\"dataframe\">\n",
       "  <thead>\n",
       "    <tr style=\"text-align: right;\">\n",
       "      <th></th>\n",
       "      <th>N6</th>\n",
       "      <th>N4</th>\n",
       "    </tr>\n",
       "  </thead>\n",
       "  <tbody>\n",
       "    <tr>\n",
       "      <th>Dec-18</th>\n",
       "      <td>640</td>\n",
       "      <td>676</td>\n",
       "    </tr>\n",
       "    <tr>\n",
       "      <th>Jan-19</th>\n",
       "      <td>495</td>\n",
       "      <td>408</td>\n",
       "    </tr>\n",
       "    <tr>\n",
       "      <th>May-18</th>\n",
       "      <td>480</td>\n",
       "      <td>480</td>\n",
       "    </tr>\n",
       "  </tbody>\n",
       "</table>\n",
       "</div>"
      ],
      "text/plain": [
       "         N6   N4\n",
       "Dec-18  640  676\n",
       "Jan-19  495  408\n",
       "May-18  480  480"
      ]
     },
     "execution_count": 134,
     "metadata": {},
     "output_type": "execute_result"
    }
   ],
   "source": [
    "# What were the top three months for New York (N6 and N4) and in which stores did they occur?\n",
    "df.loc[['N6','N4']].T.nlargest(3,['N6','N4'])"
   ]
  },
  {
   "cell_type": "code",
   "execution_count": 135,
   "metadata": {},
   "outputs": [
    {
     "data": {
      "text/html": [
       "<div>\n",
       "<style scoped>\n",
       "    .dataframe tbody tr th:only-of-type {\n",
       "        vertical-align: middle;\n",
       "    }\n",
       "\n",
       "    .dataframe tbody tr th {\n",
       "        vertical-align: top;\n",
       "    }\n",
       "\n",
       "    .dataframe thead th {\n",
       "        text-align: right;\n",
       "    }\n",
       "</style>\n",
       "<table border=\"1\" class=\"dataframe\">\n",
       "  <thead>\n",
       "    <tr style=\"text-align: right;\">\n",
       "      <th></th>\n",
       "      <th>N6</th>\n",
       "      <th>N4</th>\n",
       "    </tr>\n",
       "  </thead>\n",
       "  <tbody>\n",
       "    <tr>\n",
       "      <th>Feb-19</th>\n",
       "      <td>215</td>\n",
       "      <td>338</td>\n",
       "    </tr>\n",
       "  </tbody>\n",
       "</table>\n",
       "</div>"
      ],
      "text/plain": [
       "         N6   N4\n",
       "Feb-19  215  338"
      ]
     },
     "execution_count": 135,
     "metadata": {},
     "output_type": "execute_result"
    }
   ],
   "source": [
    "# What was the overall lowest sales figure in which store and which month?\n",
    "df.loc[['N6','N4']].T.nsmallest(1,['N6','N4'])"
   ]
  },
  {
   "cell_type": "markdown",
   "metadata": {},
   "source": [
    "#### Exercise 3"
   ]
  },
  {
   "cell_type": "code",
   "execution_count": 152,
   "metadata": {},
   "outputs": [
    {
     "name": "stdout",
     "output_type": "stream",
     "text": [
      "New Table -  Percent Increase based on annual Average \n",
      "        Apr-18     May-18     Jun-18     Jul-18     Aug-18     Sep-18  \\\n",
      "L3   0.085543 -11.462789  -2.737382  -9.409752  -6.330197 -16.338751   \n",
      "L1   6.065389   2.006764  -6.110485   6.877114 -10.710259 -10.169109   \n",
      "P2 -31.475560 -25.993604 -17.770672   9.090909   3.060758   4.705345   \n",
      "N6  15.384615  20.401338  12.876254 -22.240803  -1.672241  -3.929766   \n",
      "N4  10.732197  15.546640   8.324975  -6.840522  -6.599799 -22.968907   \n",
      "B8   1.220388   9.834889 -22.469490   1.651113  -8.901651 -17.085427   \n",
      "\n",
      "       Oct-18     Nov-18     Dec-18     Jan-19     Feb-19     Mar-19  \n",
      "L3  -6.843456  17.792985  38.323353  21.642429 -12.745937 -11.976048  \n",
      "L1  -8.004510  20.676437  55.039459  25.546787 -39.661781 -41.555806  \n",
      "P2 -16.126085  34.033805  51.301964  33.759708 -18.318867 -26.267702  \n",
      "N6 -21.237458   0.836120  60.535117  24.163880 -46.070234 -39.046823  \n",
      "N4 -18.876630  15.065196  62.728185  -1.785356 -18.635908 -36.690070  \n",
      "B8 -23.977028  -0.071788  28.786791  -9.763101  -1.148600  41.923905  \n"
     ]
    }
   ],
   "source": [
    "# create a new data table, including headings, that gives the percentage increase for each month, based on the stores average for the year.\n",
    "pia = df.apply(lambda x: ((x-np.average(x))/np.average(x))*100, axis=1)\n",
    "print(\"New Table -  Percent Increase based on annual Average \\n\", pia)\n"
   ]
  },
  {
   "cell_type": "code",
   "execution_count": 154,
   "metadata": {},
   "outputs": [
    {
     "name": "stdout",
     "output_type": "stream",
     "text": [
      "Smallest increases by store \n",
      " L3    Sep-18\n",
      "L1    Mar-19\n",
      "P2    Apr-18\n",
      "N6    Feb-19\n",
      "N4    Mar-19\n",
      "B8    Oct-18\n",
      "dtype: object\n",
      "Largest increases by store \n",
      " L3    Dec-18\n",
      "L1    Dec-18\n",
      "P2    Dec-18\n",
      "N6    Dec-18\n",
      "N4    Dec-18\n",
      "B8    Mar-19\n",
      "dtype: object\n"
     ]
    }
   ],
   "source": [
    "# Which store had the largest and smallest increase and in which months did they occur?\n",
    "print(\"Smallest increases by store \\n\", pia.idxmin(axis=1))\n",
    "print(\"Largest increases by store \\n\", pia.idxmax(axis=1))\n",
    "#    Across all the stores which months showed the smallest average increase and the largest average increase\n"
   ]
  },
  {
   "cell_type": "code",
   "execution_count": null,
   "metadata": {},
   "outputs": [],
   "source": []
  }
 ],
 "metadata": {
  "kernelspec": {
   "display_name": "Python 3",
   "language": "python",
   "name": "python3"
  },
  "language_info": {
   "codemirror_mode": {
    "name": "ipython",
    "version": 3
   },
   "file_extension": ".py",
   "mimetype": "text/x-python",
   "name": "python",
   "nbconvert_exporter": "python",
   "pygments_lexer": "ipython3",
   "version": "3.8.3"
  }
 },
 "nbformat": 4,
 "nbformat_minor": 4
}
