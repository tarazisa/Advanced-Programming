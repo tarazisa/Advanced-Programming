{
 "cells": [
  {
   "cell_type": "markdown",
   "metadata": {},
   "source": [
    "Activity 2: File processing\n",
    "\n",
    "Exercise 1"
   ]
  },
  {
   "cell_type": "code",
   "execution_count": null,
   "metadata": {},
   "outputs": [],
   "source": [
    "try:\n",
    "    file = open(\"PeopleTrainingDate.csv\",\"r\")\n",
    "except Exception as e:\n",
    "    print(e)\n"
   ]
  },
  {
   "cell_type": "code",
   "execution_count": null,
   "metadata": {},
   "outputs": [],
   "source": [
    "count = 0\n",
    "records = []\n",
    "while True:\n",
    "    line = file.readline()\n",
    "    line = line.rstrip('\\n')\n",
    "    if not line or line =='\\n':\n",
    "        break\n",
    "    count +=1  \n",
    "    fields = line.split(',')\n",
    "    if count > 1 : \n",
    "        record = {\"title\":fields[0], \n",
    "          \"name\":(fields[1] + fields[2]).strip('\\\"'),\n",
    "          \"id\":fields[3],\n",
    "          \"email\":fields[4],\n",
    "          \"company\":fields[5],\n",
    "          \"lastupdate\":fields[6]\n",
    "          }\n",
    "        records.append(record)\n",
    "    else:\n",
    "        header = fields\n",
    "file.close()"
   ]
  },
  {
   "cell_type": "code",
   "execution_count": null,
   "metadata": {},
   "outputs": [],
   "source": [
    "def printFile(header, records):\n",
    "    print(f\"{header[0]:5}\\t{header[1]:25}\\t{header[2]:13}\\t{header[3]:45}\\t{header[4]:50}\\t{header[5]:10}\\t\")\n",
    "    for r in records:\n",
    "        print(f\"{r['title']:5}\\t{r['name']:25}\\t{r['id']:13}\\t{r['email']:45}\\t{r['company']:50}\\t{r['lastupdate']:10}\")"
   ]
  },
  {
   "cell_type": "markdown",
   "metadata": {},
   "source": [
    "Exercise 2"
   ]
  },
  {
   "cell_type": "code",
   "execution_count": null,
   "metadata": {},
   "outputs": [],
   "source": [
    "def getLastUpdate(d):\n",
    "    return d[\"lastupdate\"]\n",
    "def getCompany(d):\n",
    "    return d[\"company\"]\n",
    "sortedList = sorted(records, key = getLastUpdate)\n",
    "#records.sort(key=getLastUpdate)\n",
    "#printFile(header, sortedList)"
   ]
  },
  {
   "cell_type": "code",
   "execution_count": null,
   "metadata": {},
   "outputs": [],
   "source": [
    "try:\n",
    "    file = open(\"PeopleTrainingDateSorted.csv\",\"w\")\n",
    "except Exception as e:\n",
    "    print(e)"
   ]
  },
  {
   "cell_type": "code",
   "execution_count": null,
   "metadata": {},
   "outputs": [],
   "source": [
    "# write header\n",
    "line = header[5] + ',' + header[0] + ',' + header[1] + ',' + header[2] + ',' + header[3] + ',' + header[4]\n",
    "file.write(line + '\\n')"
   ]
  },
  {
   "cell_type": "code",
   "execution_count": null,
   "metadata": {},
   "outputs": [],
   "source": [
    "for s in sortedList:\n",
    "    line = s['lastupdate'] + ',' + s['title']+','+s['name']+','+s['id'] + ',' + s['email'] + ','+ s['company']\n",
    "    file.write(line + '\\n')\n",
    "file.write('\\n')\n",
    "file.close()"
   ]
  },
  {
   "cell_type": "markdown",
   "metadata": {},
   "source": [
    "Exercise 3"
   ]
  },
  {
   "cell_type": "code",
   "execution_count": null,
   "metadata": {},
   "outputs": [],
   "source": [
    "try:\n",
    "    srt_file = open(\"PeopleTrainingDateSorted.csv\",\"a\")\n",
    "    upd_file = open(\"PeopleTrainingDateUpdate.csv\",\"r\")\n",
    "except Exception as e:\n",
    "    print(e)"
   ]
  },
  {
   "cell_type": "code",
   "execution_count": null,
   "metadata": {},
   "outputs": [],
   "source": [
    "count = 0\n",
    "records = []\n",
    "while True:\n",
    "    line = upd_file.readline()\n",
    "    line = line.rstrip('\\n')\n",
    "    if not line or line =='\\n':\n",
    "        break\n",
    "    count +=1  \n",
    "    fields = line.split(',')\n",
    "    record = {\"lastupdate\":fields[0],\n",
    "              \"email\":fields[1].split(' ')[0].rstrip(),\n",
    "              \"id\":fields[1].split(' ')[1],\n",
    "              \"title\":fields[2], \n",
    "              \"name\":(fields[3] + fields[4]).strip('\\\"'),\n",
    "              \"company\":fields[5]}\n",
    "    records.append(record)\n",
    "upd_file.close()"
   ]
  },
  {
   "cell_type": "code",
   "execution_count": null,
   "metadata": {},
   "outputs": [],
   "source": [
    "for r in records:\n",
    "    line = r['lastupdate'] + ',' + r['title']+','+r['name']+','+r['id'] + ',' + r['email'] + ','+ r['company']\n",
    "    srt_file.write(line + '\\n')\n",
    "srt_file.write('\\n')\n",
    "srt_file.close()"
   ]
  },
  {
   "cell_type": "code",
   "execution_count": null,
   "metadata": {},
   "outputs": [],
   "source": []
  },
  {
   "cell_type": "code",
   "execution_count": null,
   "metadata": {},
   "outputs": [],
   "source": []
  }
 ],
 "metadata": {
  "kernelspec": {
   "display_name": "Python 3",
   "language": "python",
   "name": "python3"
  },
  "language_info": {
   "codemirror_mode": {
    "name": "ipython",
    "version": 3
   },
   "file_extension": ".py",
   "mimetype": "text/x-python",
   "name": "python",
   "nbconvert_exporter": "python",
   "pygments_lexer": "ipython3",
   "version": "3.8.3"
  }
 },
 "nbformat": 4,
 "nbformat_minor": 4
}
