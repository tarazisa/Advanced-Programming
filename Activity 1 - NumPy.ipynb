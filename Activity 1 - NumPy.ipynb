{
 "cells": [
  {
   "cell_type": "code",
   "execution_count": 1,
   "metadata": {},
   "outputs": [],
   "source": [
    "import numpy as np"
   ]
  },
  {
   "cell_type": "markdown",
   "metadata": {},
   "source": [
    "#### Exercise One"
   ]
  },
  {
   "cell_type": "code",
   "execution_count": 2,
   "metadata": {},
   "outputs": [],
   "source": [
    "array = np.random.rand(500, 20)"
   ]
  },
  {
   "cell_type": "code",
   "execution_count": 3,
   "metadata": {},
   "outputs": [
    {
     "data": {
      "text/plain": [
       "6637.73701906571"
      ]
     },
     "execution_count": 3,
     "metadata": {},
     "output_type": "execute_result"
    }
   ],
   "source": [
    "np.sum(np.sqrt(array))"
   ]
  },
  {
   "cell_type": "markdown",
   "metadata": {},
   "source": [
    "#### Exercise Two"
   ]
  },
  {
   "cell_type": "code",
   "execution_count": 4,
   "metadata": {},
   "outputs": [],
   "source": [
    "array = np.loadtxt(\"RandomeValues.csv\", delimiter = \",\",skiprows = 0)"
   ]
  },
  {
   "cell_type": "code",
   "execution_count": 8,
   "metadata": {},
   "outputs": [
    {
     "data": {
      "text/plain": [
       "array([[ 79.,  67.,  44., 100.,  89.,  71.,  27.,  46.,  45.,  13.,  32.],\n",
       "       [ 37.,  43.,  10.,  16.,  77.,  40.,  62.,   4.,  22.,  64.,  15.],\n",
       "       [ 80.,  93.,  76.,  46.,  46.,  35.,  57.,  70.,  93.,  36.,  86.]])"
      ]
     },
     "execution_count": 8,
     "metadata": {},
     "output_type": "execute_result"
    }
   ],
   "source": [
    "array[[5,7,9],:]"
   ]
  },
  {
   "cell_type": "code",
   "execution_count": 9,
   "metadata": {},
   "outputs": [
    {
     "data": {
      "text/plain": [
       "array([[ 68.,  63.,  14.],\n",
       "       [  5.,  77.,  33.],\n",
       "       [  1.,   3.,  26.],\n",
       "       [ 83.,  32.,  96.],\n",
       "       [ 71.,  35.,  76.],\n",
       "       [ 79.,  46.,  32.],\n",
       "       [100.,  59.,   2.],\n",
       "       [ 37.,   4.,  15.],\n",
       "       [ 97.,   7.,  21.],\n",
       "       [ 80.,  70.,  86.],\n",
       "       [ 25.,  65.,  45.]])"
      ]
     },
     "execution_count": 9,
     "metadata": {},
     "output_type": "execute_result"
    }
   ],
   "source": [
    "array[:,[0,7,10]]"
   ]
  },
  {
   "cell_type": "code",
   "execution_count": 10,
   "metadata": {},
   "outputs": [
    {
     "data": {
      "text/plain": [
       "array([[43.],\n",
       "       [61.],\n",
       "       [93.]])"
      ]
     },
     "execution_count": 10,
     "metadata": {},
     "output_type": "execute_result"
    }
   ],
   "source": [
    "array[7:10,1:2]"
   ]
  },
  {
   "cell_type": "markdown",
   "metadata": {},
   "source": [
    "#### Exercise Three"
   ]
  },
  {
   "cell_type": "code",
   "execution_count": 11,
   "metadata": {},
   "outputs": [],
   "source": [
    "row = np.loadtxt(\"SalesData.csv\", delimiter = \",\",skiprows = 1, usecols = 0, dtype=\"<U4\")\n",
    "header = np.loadtxt(\"SalesData.csv\", delimiter = \",\", skiprows =0, usecols = (1,2,3,4,5,6,7,8,9,10,11,12), max_rows = 1, dtype=\"<U6\")\n",
    "data = np.loadtxt(\"SalesData.csv\", delimiter = \",\", skiprows =1, usecols = (1,2,3,4,5,6,7,8,9,10,11,12))\n"
   ]
  },
  {
   "cell_type": "code",
   "execution_count": 13,
   "metadata": {},
   "outputs": [
    {
     "data": {
      "text/plain": [
       "array([[390., 345., 379., 353., 365., 326., 363., 459., 539., 474., 340.,\n",
       "        343.],\n",
       "       [392., 377., 347., 395., 330., 332., 340., 446., 573., 464., 223.,\n",
       "        216.],\n",
       "       [250., 270., 300., 398., 376., 382., 306., 489., 552., 488., 298.,\n",
       "        269.],\n",
       "       [460., 480., 450., 310., 392., 383., 314., 402., 640., 495., 215.,\n",
       "        243.],\n",
       "       [460., 480., 450., 387., 388., 320., 337., 478., 676., 408., 338.,\n",
       "        263.],\n",
       "       [470., 510., 360., 472., 423., 385., 353., 464., 598., 419., 459.,\n",
       "        659.]])"
      ]
     },
     "execution_count": 13,
     "metadata": {},
     "output_type": "execute_result"
    }
   ],
   "source": [
    "data"
   ]
  },
  {
   "cell_type": "code",
   "execution_count": 14,
   "metadata": {},
   "outputs": [],
   "source": [
    "quarter = (header == 'Jul-18') |  (header == 'Aug-18') | (header == 'Sep-18')"
   ]
  },
  {
   "cell_type": "code",
   "execution_count": 15,
   "metadata": {},
   "outputs": [
    {
     "data": {
      "text/plain": [
       "array([2315., 2274., 2128.])"
      ]
     },
     "execution_count": 15,
     "metadata": {},
     "output_type": "execute_result"
    }
   ],
   "source": [
    "np.sum(data[:,quarter],axis=0)\n"
   ]
  },
  {
   "cell_type": "code",
   "execution_count": 16,
   "metadata": {},
   "outputs": [
    {
     "data": {
      "text/plain": [
       "array([385.83333333, 379.        , 354.66666667])"
      ]
     },
     "execution_count": 16,
     "metadata": {},
     "output_type": "execute_result"
    }
   ],
   "source": [
    "np.mean(data[:,quarter], axis=0)"
   ]
  },
  {
   "cell_type": "code",
   "execution_count": 17,
   "metadata": {},
   "outputs": [],
   "source": [
    "stores = (row == 'L3') | (row == 'L1')\n",
    "q1 = (header == 'Apr-18') | (header == 'May-18') |(header == 'Jun-18')\n",
    "q3 = (header == 'Oct-18') |(header == 'Nov-18') |(header == 'Dec-18') "
   ]
  },
  {
   "cell_type": "code",
   "execution_count": 18,
   "metadata": {},
   "outputs": [
    {
     "name": "stdout",
     "output_type": "stream",
     "text": [
      "Q1 sales for stores  ['L3' 'L1']  are  [1114. 1116.]\n",
      "Q3 sales for stores  ['L3' 'L1']  are  [1361. 1359.]\n"
     ]
    }
   ],
   "source": [
    "print(\"Q1 sales for stores \", row[stores], \" are \" , np.sum(data[stores.T,:][:,q1], axis=1))\n",
    "print(\"Q3 sales for stores \", row[stores], \" are \" , np.sum(data[stores.T,:][:,q3], axis=1))"
   ]
  },
  {
   "cell_type": "code",
   "execution_count": 19,
   "metadata": {},
   "outputs": [],
   "source": [
    "stores = (row == 'N4') | (row == 'N6')"
   ]
  },
  {
   "cell_type": "code",
   "execution_count": 20,
   "metadata": {},
   "outputs": [],
   "source": [
    "d = data[stores]\n",
    "d[d>399]=0"
   ]
  },
  {
   "cell_type": "code",
   "execution_count": 21,
   "metadata": {
    "scrolled": true
   },
   "outputs": [
    {
     "name": "stdout",
     "output_type": "stream",
     "text": [
      "[[  0.   0.   0. 310. 392. 383. 314.   0.   0.   0. 215. 243.]\n",
      " [  0.   0.   0. 387. 388. 320. 337.   0.   0.   0. 338. 263.]]\n"
     ]
    }
   ],
   "source": [
    "print(d)"
   ]
  },
  {
   "cell_type": "markdown",
   "metadata": {},
   "source": [
    "#### Exercise 4"
   ]
  },
  {
   "cell_type": "code",
   "execution_count": null,
   "metadata": {},
   "outputs": [],
   "source": [
    "iters = 2000 # number of iterations\n",
    "steps = 1000 # steps\n",
    "start = 3 # starting position "
   ]
  },
  {
   "cell_type": "code",
   "execution_count": null,
   "metadata": {},
   "outputs": [],
   "source": [
    "draws = np.random.randint(0,2,size=(iters,steps))"
   ]
  },
  {
   "cell_type": "code",
   "execution_count": null,
   "metadata": {},
   "outputs": [],
   "source": [
    "steps = np.where(draws > 0,1,-1)"
   ]
  },
  {
   "cell_type": "code",
   "execution_count": null,
   "metadata": {},
   "outputs": [],
   "source": [
    "steps[:,0] += start # account for the starting position "
   ]
  },
  {
   "cell_type": "code",
   "execution_count": null,
   "metadata": {},
   "outputs": [],
   "source": [
    "walks = np.cumsum(steps,axis=1)"
   ]
  },
  {
   "cell_type": "code",
   "execution_count": null,
   "metadata": {},
   "outputs": [],
   "source": [
    "mask = [(walks > 7) | (walks < 0)]"
   ]
  },
  {
   "cell_type": "code",
   "execution_count": null,
   "metadata": {},
   "outputs": [],
   "source": [
    "all = np.ma.MaskedArray(walks,mask,fill_value=999).count(axis=1)"
   ]
  },
  {
   "cell_type": "code",
   "execution_count": null,
   "metadata": {},
   "outputs": [],
   "source": [
    "print(\"Average # steps \", np.mean(all))\n",
    "print(\"Median # steps \", np.median(all))\n",
    "print(\"Steps standard deviation \", np.std(all))\n",
    "print(\"Min # steps \", all.min())\n",
    "print(\"Max # steps \", all.max())"
   ]
  },
  {
   "cell_type": "code",
   "execution_count": null,
   "metadata": {},
   "outputs": [],
   "source": [
    "import matplotlib.pyplot as plt\n",
    "fig, axs = plt.subplots(1, 1, \n",
    "                        figsize =(10, 7),  \n",
    "                        tight_layout = True) \n",
    "  \n",
    "axs.hist(all, bins = 100) \n",
    "# Adding extra features     \n",
    "plt.xlabel(\"Number of Steps\") \n",
    "plt.ylabel(\"Frequency\") \n",
    "plt.title('A Bug Random Walk')   \n",
    "# Show plot \n",
    "plt.show() "
   ]
  },
  {
   "cell_type": "code",
   "execution_count": null,
   "metadata": {},
   "outputs": [],
   "source": []
  },
  {
   "cell_type": "code",
   "execution_count": null,
   "metadata": {},
   "outputs": [],
   "source": []
  }
 ],
 "metadata": {
  "kernelspec": {
   "display_name": "Python 3",
   "language": "python",
   "name": "python3"
  },
  "language_info": {
   "codemirror_mode": {
    "name": "ipython",
    "version": 3
   },
   "file_extension": ".py",
   "mimetype": "text/x-python",
   "name": "python",
   "nbconvert_exporter": "python",
   "pygments_lexer": "ipython3",
   "version": "3.8.3"
  }
 },
 "nbformat": 4,
 "nbformat_minor": 4
}
