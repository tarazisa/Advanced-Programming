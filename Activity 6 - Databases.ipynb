{
 "cells": [
  {
   "cell_type": "code",
   "execution_count": 1,
   "metadata": {},
   "outputs": [],
   "source": [
    "import pymongo\n",
    "import json"
   ]
  },
  {
   "cell_type": "code",
   "execution_count": 2,
   "metadata": {},
   "outputs": [],
   "source": [
    "client = pymongo.MongoClient(\"mongodb://localhost/27017\")"
   ]
  },
  {
   "cell_type": "code",
   "execution_count": 3,
   "metadata": {},
   "outputs": [
    {
     "data": {
      "text/plain": [
       "['admin', 'config', 'local', 'university']"
      ]
     },
     "execution_count": 3,
     "metadata": {},
     "output_type": "execute_result"
    }
   ],
   "source": [
    "client.list_database_names()"
   ]
  },
  {
   "cell_type": "code",
   "execution_count": 4,
   "metadata": {},
   "outputs": [],
   "source": [
    "uniDb= client[\"university\"]\n",
    "studentCol = uniDb[\"students\"]"
   ]
  },
  {
   "cell_type": "code",
   "execution_count": 25,
   "metadata": {},
   "outputs": [],
   "source": [
    " result = studentCol.delete_many({})"
   ]
  },
  {
   "cell_type": "code",
   "execution_count": 26,
   "metadata": {},
   "outputs": [],
   "source": [
    "try:\n",
    "    f = open(\"people.json\",)\n",
    "    people = json.load(f)\n",
    "    f.close()\n",
    "except Exception as e:\n",
    "    print(e)\n",
    "    "
   ]
  },
  {
   "cell_type": "code",
   "execution_count": 27,
   "metadata": {},
   "outputs": [
    {
     "name": "stdout",
     "output_type": "stream",
     "text": [
      "[{'id': 897654, 'fullName': {'title': 'Mrs', 'first': 'Lisa', 'surname': 'Penny', 'other': ['Melanie']}, 'age': 32, 'city': 'London'}, {'id': 786789, 'fullName': {'title': 'Mr', 'first': 'Lorenzo', 'surname': 'Dubois', 'other': ['Ruelle', 'Garlen']}, 'age': 38, 'city': 'Paris'}, {'id': 546854, 'fullName': {'title': 'Mr', 'first': 'Takeshi', 'surname': 'Tanaka', 'other': [None]}, 'age': 25, 'city': 'Tokyo'}, {'id': 238751, 'fullName': {'title': 'Mr', 'first': 'Tanveer', 'surname': 'Patel', 'other': ['Vihaan']}, 'age': 27, 'city': 'Mumbai'}, {'id': 894573, 'fullName': {'title': 'Miss', 'first': 'Iolanda', 'surname': 'Melo', 'other': ['Bianca']}, 'age': 23, 'city': 'Lisbon'}]\n"
     ]
    }
   ],
   "source": [
    "print(people['students'])\n",
    "inserted = studentCol.insert_many(people['students'])"
   ]
  },
  {
   "cell_type": "code",
   "execution_count": 78,
   "metadata": {},
   "outputs": [],
   "source": [
    "cursor = studentCol.find({\"age\":{\"$gt\":25}})"
   ]
  },
  {
   "cell_type": "code",
   "execution_count": 79,
   "metadata": {},
   "outputs": [
    {
     "name": "stdout",
     "output_type": "stream",
     "text": [
      "{'title': 'Mrs', 'first': 'Lisa', 'surname': 'Penny', 'other': ['Melanie']}\n",
      "{'title': 'Mr', 'first': 'Lorenzo', 'surname': 'Dubois', 'other': ['Ruelle', 'Garlen']}\n",
      "{'title': 'Mr', 'first': 'Tanveer', 'surname': 'Patel', 'other': ['Vihaan']}\n"
     ]
    }
   ],
   "source": [
    "for record in cursor:\n",
    "    print(record['fullName'])"
   ]
  },
  {
   "cell_type": "code",
   "execution_count": 85,
   "metadata": {},
   "outputs": [],
   "source": [
    "cursor = studentCol.find({\"fullName.other\":[None]})"
   ]
  },
  {
   "cell_type": "code",
   "execution_count": 86,
   "metadata": {},
   "outputs": [
    {
     "name": "stdout",
     "output_type": "stream",
     "text": [
      "546854\n"
     ]
    }
   ],
   "source": [
    "for record in cursor:\n",
    "    print(record['id'])"
   ]
  },
  {
   "cell_type": "code",
   "execution_count": 134,
   "metadata": {},
   "outputs": [],
   "source": [
    "count = studentCol.count_documents({\"$and\":[{\"fullName.title\":{\"$in\":[\"Miss\",\"Mrs\"]}},{\"city\":{\"$ne\":\"Tokyo\"}}]})"
   ]
  },
  {
   "cell_type": "code",
   "execution_count": 133,
   "metadata": {},
   "outputs": [
    {
     "name": "stdout",
     "output_type": "stream",
     "text": [
      "2\n"
     ]
    }
   ],
   "source": [
    "print(count)"
   ]
  },
  {
   "cell_type": "code",
   "execution_count": 139,
   "metadata": {},
   "outputs": [],
   "source": [
    "count = studentCol.count_documents({\"$and\":[{\"fullName.title\":\"Mr\"}, {\"city\":{\"$ne\":\"Tokyo\"}}]})"
   ]
  },
  {
   "cell_type": "code",
   "execution_count": 140,
   "metadata": {},
   "outputs": [
    {
     "name": "stdout",
     "output_type": "stream",
     "text": [
      "2\n"
     ]
    }
   ],
   "source": [
    "print(count)"
   ]
  },
  {
   "cell_type": "code",
   "execution_count": null,
   "metadata": {},
   "outputs": [],
   "source": []
  }
 ],
 "metadata": {
  "kernelspec": {
   "display_name": "Python 3",
   "language": "python",
   "name": "python3"
  },
  "language_info": {
   "codemirror_mode": {
    "name": "ipython",
    "version": 3
   },
   "file_extension": ".py",
   "mimetype": "text/x-python",
   "name": "python",
   "nbconvert_exporter": "python",
   "pygments_lexer": "ipython3",
   "version": "3.8.3"
  }
 },
 "nbformat": 4,
 "nbformat_minor": 4
}
