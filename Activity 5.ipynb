{
 "cells": [
  {
   "cell_type": "code",
   "execution_count": 2,
   "metadata": {},
   "outputs": [],
   "source": [
    "from xml.sax import make_parser \n",
    "from xml.sax.handler import ContentHandler \n",
    "import json"
   ]
  },
  {
   "cell_type": "code",
   "execution_count": 5,
   "metadata": {},
   "outputs": [],
   "source": [
    "class StudentHandler(ContentHandler):\n",
    "    def __init__(self):\n",
    "        self.title = ''\n",
    "        self.firstName = ''\n",
    "        self.surName = ''\n",
    "        self.otherName = []\n",
    "        self.age = ''\n",
    "        self.city = ''\n",
    "        self.element = ''\n",
    "        self.records = {'students': []}\n",
    "\n",
    "    def startElement(self, name, attrs):\n",
    "        self.element = name\n",
    "        if name == 'fullName':\n",
    "            self.title = attrs.get('title', \"\")\n",
    "        if name == 'students':\n",
    "            self.records['students'] = []\n",
    "\n",
    "    def endElement(self, name):\n",
    "        if name == \"student\":\n",
    "            self.printRecord()\n",
    "            self.otherName = []\n",
    "        if name == \"students\":\n",
    "            self.finalize()\n",
    "        self.element = ''\n",
    "\n",
    "    def characters(self, content):\n",
    "        if self.element == 'firstName':\n",
    "            self.firstName = content\n",
    "        elif self.element == 'surname':\n",
    "            self.surName = content\n",
    "        elif self.element == 'name':\n",
    "            self.otherName.append(content)\n",
    "        elif self.element == 'age':\n",
    "            self.age = content\n",
    "        elif self.element == 'city':\n",
    "            self.city = content\n",
    "\n",
    "    def printRecord(self):\n",
    "        record={}\n",
    "        record['fullName'] = {}\n",
    "        record['fullName']['title'] = self.title\n",
    "        record['fullName']['firstName'] = self.firstName\n",
    "        record['fullName']['surName'] = self.surName\n",
    "        record['fullName']['otherName'] = []\n",
    "        if self.otherName:\n",
    "            for o in self.otherName:\n",
    "                record['fullName']['otherName'].append(o)\n",
    "        record['age'] = self.age\n",
    "        record['city'] = self.city\n",
    "        self.records['students'].append(record)\n",
    "\n",
    "    def finalize(self):\n",
    "        json_records = json.dumps(self.records)\n",
    "        print(json_records)\n",
    "        try:\n",
    "            with open('students.json', 'w') as json_file:\n",
    "                json.dump(self.records, json_file)\n",
    "        except Exception as e:\n",
    "            print(e)\n"
   ]
  },
  {
   "cell_type": "code",
   "execution_count": 6,
   "metadata": {},
   "outputs": [
    {
     "name": "stdout",
     "output_type": "stream",
     "text": [
      "{\"students\": [{\"fullName\": {\"title\": \"Mrs\", \"firstName\": \"Lisa\", \"surName\": \"Penny\", \"otherName\": [\"Melanie\"]}, \"age\": \"32\", \"city\": \"London\"}, {\"fullName\": {\"title\": \"Mr\", \"firstName\": \"Lorenzo\", \"surName\": \"Dubois\", \"otherName\": [\"Ruelle\", \"Garlen\"]}, \"age\": \"38\", \"city\": \"Paris\"}, {\"fullName\": {\"title\": \"Mr\", \"firstName\": \"Takeshi\", \"surName\": \"Tanaka\", \"otherName\": []}, \"age\": \"25\", \"city\": \"Tokyo\"}, {\"fullName\": {\"title\": \"Mr\", \"firstName\": \"Tanveer\", \"surName\": \"Patel\", \"otherName\": [\"Vihaan\"]}, \"age\": \"27\", \"city\": \"Mumbai\"}, {\"fullName\": {\"title\": \"Miss\", \"firstName\": \"Iolanda\", \"surName\": \"Melo\", \"otherName\": [\"Bianca\"]}, \"age\": \"23\", \"city\": \"Lisbon\"}]}\n"
     ]
    }
   ],
   "source": [
    "if __name__ == \"__main__\" :\n",
    "    parser = make_parser()\n",
    "Handler = StudentHandler()\n",
    "parser.setContentHandler(Handler)\n",
    "parser.parse(\"People.xml\")"
   ]
  },
  {
   "cell_type": "code",
   "execution_count": null,
   "metadata": {},
   "outputs": [],
   "source": []
  }
 ],
 "metadata": {
  "kernelspec": {
   "display_name": "Python 3",
   "language": "python",
   "name": "python3"
  },
  "language_info": {
   "codemirror_mode": {
    "name": "ipython",
    "version": 3
   },
   "file_extension": ".py",
   "mimetype": "text/x-python",
   "name": "python",
   "nbconvert_exporter": "python",
   "pygments_lexer": "ipython3",
   "version": "3.8.3"
  }
 },
 "nbformat": 4,
 "nbformat_minor": 4
}
