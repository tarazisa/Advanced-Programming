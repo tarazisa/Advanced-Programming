{
 "cells": [
  {
   "cell_type": "code",
   "execution_count": 1,
   "metadata": {},
   "outputs": [],
   "source": [
    "from PIL import Image, ImageTk\n",
    "from tkinter import *\n",
    "from tkinter import ttk\n",
    "from tkinter import filedialog\n",
    "import tksheet\n",
    "import matplotlib.pyplot as plt\n",
    "from matplotlib.backends.backend_tkagg import FigureCanvasTkAgg\n",
    "import pandas as pd\n",
    "import numpy as np\n",
    "import seaborn as sb\n",
    "from scipy.stats import mode"
   ]
  },
  {
   "cell_type": "code",
   "execution_count": 2,
   "metadata": {},
   "outputs": [],
   "source": [
    "class Prototype(Tk):\n",
    "    def __init__(self):\n",
    "        super(Prototype, self).__init__()\n",
    "        self.initUI()\n",
    "        self.createWidgets()\n",
    "    \n",
    "    def initUI(self):\n",
    "        self.title(\"Prototype\")\n",
    "        self.geometry('1920x1080')\n",
    "        self.wm_iconbitmap('icon.ico')\n",
    "        \n",
    "    def createWidgets(self):\n",
    "        self.toolBar()\n",
    "        self.tabs()\n",
    "        self.sheets()\n",
    "    \n",
    "\n",
    "    def toolBar(self):\n",
    "        self.toolbar = Frame(self, bd=1, relief=RAISED)\n",
    "        self.img = Image.open(\"/png/24/Modern3D/objects/exit.png\")\n",
    "        eimg = ImageTk.PhotoImage(self.img)\n",
    "        exitButton = Button(toolbar, image=eimg, relief=FLAT,command=self.quit)\n",
    "        exitButton.image = eimg\n",
    "        exitButton.pack(side=LEFT, padx=2, pady=2)\n",
    "        toolbar.pack(side=TOP, fill=X)\n",
    "        #self.config(menu=menubar)\n",
    "        self.pack()\n",
    "\n",
    "    def onExit(self):\n",
    "        self.quit()\n",
    "\n",
    "    def sheets(self):\n",
    "        self.sheet = tksheet.Sheet(self.tab1,\n",
    "                                   page_up_down_select_row = True,\n",
    "                                   #empty_vertical = 0,\n",
    "                                   column_width = 120,\n",
    "                                   startup_select = (0,1,\"rows\"),\n",
    "                                   #row_height = \"4\",\n",
    "                                   #default_row_index = \"numbers\",\n",
    "                                   #default_header = \"both\",\n",
    "                                   #empty_horizontal = 0,\n",
    "                                   #show_vertical_grid = False,\n",
    "                                   #show_horizontal_grid = False,\n",
    "                                   #auto_resize_default_row_index = False,\n",
    "                                   #header_height = \"3\",\n",
    "                                   #row_index_width = 100,\n",
    "                                   #align = \"e\",\n",
    "                                   #header_align = \"w\",\n",
    "                                   #row_index_align = \"w\",\n",
    "                                   #data = [[f\"Row {r}, Column {c}\\nnewline1\\nnewline2\" for c in range(50)] for r in range(1000)], #to set sheet data at startup\n",
    "                                   #headers = [f\"Column {c}\\nnewline1\\nnewline2\" for c in range(30)],\n",
    "                                   #row_index = [f\"Row {r}\\nnewline1\\nnewline2\" for r in range(2000)],\n",
    "                                   #set_all_heights_and_widths = True, #to fit all cell sizes to text at start up\n",
    "                                   #headers = 0, #to set headers as first row at startup\n",
    "                                   #headers = [f\"Column {c}\\nnewline1\\nnewline2\" for c in range(30)],\n",
    "                                   #theme = \"light green\",\n",
    "                                   #row_index = 0, #to set row_index as first column at startup\n",
    "                                   #total_rows = 2000, #if you want to set empty sheet dimensions at startup\n",
    "                                   #total_columns = 30, #if you want to set empty sheet dimensions at startup\n",
    "                                   height = 500, #height and width arguments are optional\n",
    "                                   width = 1200 #For full startup arguments see DOCUMENTATION.md\n",
    "                                  )\n",
    "        self.sheet.grid()\n",
    "        # table enable choices listed below:\n",
    "        self.sheet.enable_bindings((\"single_select\",\"row_select\",\"column_width_resize\",\n",
    "                               \"arrowkeys\",\"right_click_popup_menu\",\"rc_select\",\"rc_insert_row\",\n",
    "                               \"rc_delete_row\",\"copy\",\"cut\",\"paste\",\"delete\",\"undo\",\"edit_cell\"))\n",
    "    \n",
    "    def quit_btn(self):\n",
    "        button = ttk.Button(self, text=\"Quit\", command=self.destroy)\n",
    "        button.pack()\n",
    "    \n",
    "    def display_figure(self, fig):\n",
    "        canvas = FigureCanvasTkAgg(fig, master=self.tab2)  # A tk.DrawingArea.\n",
    "        canvas.draw()\n",
    "        canvas.get_tk_widget().grid(row=0, column=0)\n",
    "    \n",
    "    def tabs(self):\n",
    "        self.tabControl = ttk.Notebook(self)\n",
    "        self.tab1 = ttk.Frame(self.tabControl)\n",
    "        self.tabControl.add(self.tab1, text='Initialize')\n",
    "        self.tab2 = ttk.Frame(self.tabControl)\n",
    "        self.tabControl.add(self.tab2, text='Clean Up')\n",
    "        self.tabControl.pack(expand=1, fill=\"both\")\n",
    "        ttk.Label(self.tab1, text=\"Initialize\").grid(column=0, row=0, padx=10, pady=10)\n",
    "        ttk.Label(self.tab2, text=\"Clean Up\").grid(column=0, row=0, padx=10, pady=10)"
   ]
  },
  {
   "cell_type": "code",
   "execution_count": 3,
   "metadata": {},
   "outputs": [],
   "source": [
    "def init():\n",
    "    # set pd options\n",
    "    pd.set_option('display.max_columns', None)\n",
    "    pd.set_option('display.max_rows', None)"
   ]
  },
  {
   "cell_type": "code",
   "execution_count": 4,
   "metadata": {},
   "outputs": [],
   "source": [
    "def loadData(file_name, parse_dates= None):\n",
    "    # load the three data sets \n",
    "    if parse_dates:\n",
    "        return pd.read_csv(file_name, parse_dates=parse_dates)\n",
    "    else:\n",
    "        return pd.read_csv(file_name)"
   ]
  },
  {
   "cell_type": "code",
   "execution_count": 5,
   "metadata": {},
   "outputs": [],
   "source": [
    "# create a function to extract and clean up PED \n",
    "def extractPED(df):\n",
    "    df['PE DESCRIPTION'] = df['PE DESCRIPTION'].str.strip()\n",
    "    ped = df[\"PE DESCRIPTION\"].str.extract(\"\\((.*?)\\)\").set_axis(['PED'], axis = 1)\n",
    "    ped[\"PED\"] = ped[\"PED\"].replace({'SQ. FT.': 'SF'}, regex=True)\n",
    "    ped[\"PED\"].replace({\"\\d{1,3}(?=(\\d{3})+(?!\\d))\":\"\\g<0>,\"}, regex=True, inplace = True)\n",
    "    ped[ped[\"PED\"].str.match(\".*\\,\\d{3}\\s\\+\")==True] += \" SF\"\n",
    "    return ped"
   ]
  },
  {
   "cell_type": "code",
   "execution_count": 6,
   "metadata": {},
   "outputs": [],
   "source": [
    "def cleanUpInspectionData(df):\n",
    "    # find the INACTIVE\n",
    "    index = df[(df['PROGRAM STATUS']==\"INACTIVE\")].index\n",
    "    # drop the rows\n",
    "    df.drop(index , inplace=True)   \n",
    "    # extract and clean up PED for two instances\n",
    "    df['PED'] = extractPED(df)\n",
    "    # clean up Zip code from +4 as we are interested in the area and not specific address\n",
    "    df['FACILITY ZIP'] = df['FACILITY ZIP'].str[:5]\n",
    "    # check for any bad ZIP containing letters\n",
    "    df[\"FACILITY ZIP\"].replace({\"\\w*[a-zA-Z]\\w*\":\"99999\"}, regex=True, inplace = True)\n",
    "    # drop the rows that contain a null zip\n",
    "    index = insp[df['FACILITY ZIP'].isnull()].index\n",
    "    df.drop(index , inplace=True)  \n",
    "    # change to numeric value \n",
    "    df[\"FACILITY ZIP\"] = df[\"FACILITY ZIP\"].str[:5].astype(int)\n",
    "    \n",
    "def cleanUpInventoryData(df):\n",
    "    df['PED'] = extractPED(df)"
   ]
  },
  {
   "cell_type": "code",
   "execution_count": 7,
   "metadata": {},
   "outputs": [],
   "source": [
    "insp = loadData(\"Inspections.csv\", parse_dates=['ACTIVITY DATE'])\n",
    "viol = loadData(\"violations.csv\")\n",
    "invt = loadData(\"Inventroy.csv\")\n",
    "\n",
    "cleanUpInspectionData(insp)\n",
    "cleanUpInventoryData(invt)\n"
   ]
  },
  {
   "cell_type": "code",
   "execution_count": 8,
   "metadata": {},
   "outputs": [],
   "source": [
    "# insp.head(10)"
   ]
  },
  {
   "cell_type": "code",
   "execution_count": 9,
   "metadata": {},
   "outputs": [
    {
     "data": {
      "text/plain": [
       "(array([ 0,  1,  2,  3,  4,  5,  6,  7,  8,  9, 10, 11, 12, 13, 14, 15, 16,\n",
       "        17, 18, 19, 20, 21, 22, 23, 24, 25, 26, 27, 28, 29, 30, 31, 32, 33,\n",
       "        34, 35, 36, 37, 38, 39, 40, 41, 42, 43, 44, 45, 46, 47, 48, 49, 50,\n",
       "        51, 52, 53, 54, 55, 56, 57, 58, 59, 60, 61, 62, 63, 64, 65, 66, 67,\n",
       "        68, 69, 70, 71, 72, 73, 74, 75, 76, 77, 78, 79, 80, 81, 82, 83, 84,\n",
       "        85, 86, 87, 88, 89, 90, 91, 92, 93, 94, 95]),\n",
       " <a list of 96 Text major ticklabel objects>)"
      ]
     },
     "execution_count": 9,
     "metadata": {},
     "output_type": "execute_result"
    },
    {
     "data": {
      "image/png": "[encoded data removed]",
      "text/plain": [
       "<Figure size 2160x720 with 1 Axes>"
      ]
     },
     "metadata": {},
     "output_type": "display_data"
    }
   ],
   "source": [
    "# Produce a suitable graph that displays the number of establishments that have committed each type of violation, you may need to consider how you group this data to make visualisation feasible. \n",
    "left = insp[['FACILITY ID','FACILITY NAME','SERIAL NUMBER','FACILITY ZIP']]\n",
    "right = viol[['SERIAL NUMBER','VIOLATION CODE']]\n",
    "join = pd.merge(left, right, on='SERIAL NUMBER', how='left')\n",
    "# setup the plot data\n",
    "plot_data = pd.DataFrame()\n",
    "plot_data[['Violation Code','Count']] = join.groupby([\"VIOLATION CODE\"])[\"FACILITY ID\"].count().reset_index()\n",
    "# setup and generate the graph\n",
    "sb.set(style=\"darkgrid\")    \n",
    "fig, ax = plt.subplots(figsize=(30, 10))  \n",
    "g = sb.barplot(ax=ax, x=\"Violation Code\", y=\"Count\", data=plot_data)\n",
    "#color=cmap(norm(plot_data.Count.values))\n",
    "plt.xticks(rotation=90)\n",
    "#plt.show()"
   ]
  },
  {
   "cell_type": "code",
   "execution_count": 10,
   "metadata": {},
   "outputs": [
    {
     "ename": "AttributeError",
     "evalue": "type object 'Image' has no attribute 'open'",
     "output_type": "error",
     "traceback": [
      "\u001b[0;31m---------------------------------------------------------------------------\u001b[0m",
      "\u001b[0;31mAttributeError\u001b[0m                            Traceback (most recent call last)",
      "\u001b[0;32m<ipython-input-10-9f12e7429b22>\u001b[0m in \u001b[0;36m<module>\u001b[0;34m\u001b[0m\n\u001b[0;32m----> 1\u001b[0;31m \u001b[0mapp\u001b[0m \u001b[0;34m=\u001b[0m \u001b[0mPrototype\u001b[0m\u001b[0;34m(\u001b[0m\u001b[0;34m)\u001b[0m\u001b[0;34m\u001b[0m\u001b[0;34m\u001b[0m\u001b[0m\n\u001b[0m\u001b[1;32m      2\u001b[0m \u001b[0mapp\u001b[0m\u001b[0;34m.\u001b[0m\u001b[0msheet\u001b[0m\u001b[0;34m.\u001b[0m\u001b[0mheaders\u001b[0m\u001b[0;34m(\u001b[0m\u001b[0;34m(\u001b[0m\u001b[0;34mf\"{c}\"\u001b[0m \u001b[0;32mfor\u001b[0m \u001b[0mc\u001b[0m \u001b[0;32min\u001b[0m \u001b[0minsp\u001b[0m\u001b[0;34m.\u001b[0m\u001b[0mcolumns\u001b[0m\u001b[0;34m.\u001b[0m\u001b[0mvalues\u001b[0m\u001b[0;34m)\u001b[0m\u001b[0;34m)\u001b[0m \u001b[0;31m#any iterable works\u001b[0m\u001b[0;34m\u001b[0m\u001b[0;34m\u001b[0m\u001b[0m\n\u001b[1;32m      3\u001b[0m \u001b[0;31m#app.sheet.insert_row(values = (f\"{c}\" for c in insp.columns.values), idx = 0)\u001b[0m\u001b[0;34m\u001b[0m\u001b[0;34m\u001b[0m\u001b[0;34m\u001b[0m\u001b[0m\n\u001b[1;32m      4\u001b[0m \u001b[0;32mfor\u001b[0m \u001b[0mri\u001b[0m \u001b[0;32min\u001b[0m \u001b[0mrange\u001b[0m\u001b[0;34m(\u001b[0m\u001b[0;36m10\u001b[0m\u001b[0;34m)\u001b[0m\u001b[0;34m:\u001b[0m\u001b[0;34m\u001b[0m\u001b[0;34m\u001b[0m\u001b[0m\n\u001b[1;32m      5\u001b[0m     \u001b[0mapp\u001b[0m\u001b[0;34m.\u001b[0m\u001b[0msheet\u001b[0m\u001b[0;34m.\u001b[0m\u001b[0minsert_row\u001b[0m\u001b[0;34m(\u001b[0m\u001b[0mvalues\u001b[0m \u001b[0;34m=\u001b[0m \u001b[0;34m(\u001b[0m\u001b[0;34mf\"{c}\"\u001b[0m \u001b[0;32mfor\u001b[0m \u001b[0mc\u001b[0m \u001b[0;32min\u001b[0m \u001b[0minsp\u001b[0m\u001b[0;34m.\u001b[0m\u001b[0miloc\u001b[0m\u001b[0;34m[\u001b[0m\u001b[0mri\u001b[0m\u001b[0;34m,\u001b[0m \u001b[0;34m:\u001b[0m\u001b[0;34m]\u001b[0m\u001b[0;34m)\u001b[0m\u001b[0;34m,\u001b[0m \u001b[0midx\u001b[0m \u001b[0;34m=\u001b[0m \u001b[0mri\u001b[0m\u001b[0;34m)\u001b[0m\u001b[0;34m\u001b[0m\u001b[0;34m\u001b[0m\u001b[0m\n",
      "\u001b[0;32m<ipython-input-2-86cf7fde1dc7>\u001b[0m in \u001b[0;36m__init__\u001b[0;34m(self)\u001b[0m\n\u001b[1;32m      3\u001b[0m         \u001b[0msuper\u001b[0m\u001b[0;34m(\u001b[0m\u001b[0mPrototype\u001b[0m\u001b[0;34m,\u001b[0m \u001b[0mself\u001b[0m\u001b[0;34m)\u001b[0m\u001b[0;34m.\u001b[0m\u001b[0m__init__\u001b[0m\u001b[0;34m(\u001b[0m\u001b[0;34m)\u001b[0m\u001b[0;34m\u001b[0m\u001b[0;34m\u001b[0m\u001b[0m\n\u001b[1;32m      4\u001b[0m         \u001b[0mself\u001b[0m\u001b[0;34m.\u001b[0m\u001b[0minitUI\u001b[0m\u001b[0;34m(\u001b[0m\u001b[0;34m)\u001b[0m\u001b[0;34m\u001b[0m\u001b[0;34m\u001b[0m\u001b[0m\n\u001b[0;32m----> 5\u001b[0;31m         \u001b[0mself\u001b[0m\u001b[0;34m.\u001b[0m\u001b[0mcreateWidgets\u001b[0m\u001b[0;34m(\u001b[0m\u001b[0;34m)\u001b[0m\u001b[0;34m\u001b[0m\u001b[0;34m\u001b[0m\u001b[0m\n\u001b[0m\u001b[1;32m      6\u001b[0m \u001b[0;34m\u001b[0m\u001b[0m\n\u001b[1;32m      7\u001b[0m     \u001b[0;32mdef\u001b[0m \u001b[0minitUI\u001b[0m\u001b[0;34m(\u001b[0m\u001b[0mself\u001b[0m\u001b[0;34m)\u001b[0m\u001b[0;34m:\u001b[0m\u001b[0;34m\u001b[0m\u001b[0;34m\u001b[0m\u001b[0m\n",
      "\u001b[0;32m<ipython-input-2-86cf7fde1dc7>\u001b[0m in \u001b[0;36mcreateWidgets\u001b[0;34m(self)\u001b[0m\n\u001b[1;32m     11\u001b[0m \u001b[0;34m\u001b[0m\u001b[0m\n\u001b[1;32m     12\u001b[0m     \u001b[0;32mdef\u001b[0m \u001b[0mcreateWidgets\u001b[0m\u001b[0;34m(\u001b[0m\u001b[0mself\u001b[0m\u001b[0;34m)\u001b[0m\u001b[0;34m:\u001b[0m\u001b[0;34m\u001b[0m\u001b[0;34m\u001b[0m\u001b[0m\n\u001b[0;32m---> 13\u001b[0;31m         \u001b[0mself\u001b[0m\u001b[0;34m.\u001b[0m\u001b[0mtoolBar\u001b[0m\u001b[0;34m(\u001b[0m\u001b[0;34m)\u001b[0m\u001b[0;34m\u001b[0m\u001b[0;34m\u001b[0m\u001b[0m\n\u001b[0m\u001b[1;32m     14\u001b[0m         \u001b[0mself\u001b[0m\u001b[0;34m.\u001b[0m\u001b[0mtabs\u001b[0m\u001b[0;34m(\u001b[0m\u001b[0;34m)\u001b[0m\u001b[0;34m\u001b[0m\u001b[0;34m\u001b[0m\u001b[0m\n\u001b[1;32m     15\u001b[0m         \u001b[0mself\u001b[0m\u001b[0;34m.\u001b[0m\u001b[0msheets\u001b[0m\u001b[0;34m(\u001b[0m\u001b[0;34m)\u001b[0m\u001b[0;34m\u001b[0m\u001b[0;34m\u001b[0m\u001b[0m\n",
      "\u001b[0;32m<ipython-input-2-86cf7fde1dc7>\u001b[0m in \u001b[0;36mtoolBar\u001b[0;34m(self)\u001b[0m\n\u001b[1;32m     18\u001b[0m     \u001b[0;32mdef\u001b[0m \u001b[0mtoolBar\u001b[0m\u001b[0;34m(\u001b[0m\u001b[0mself\u001b[0m\u001b[0;34m)\u001b[0m\u001b[0;34m:\u001b[0m\u001b[0;34m\u001b[0m\u001b[0;34m\u001b[0m\u001b[0m\n\u001b[1;32m     19\u001b[0m         \u001b[0mself\u001b[0m\u001b[0;34m.\u001b[0m\u001b[0mtoolbar\u001b[0m \u001b[0;34m=\u001b[0m \u001b[0mFrame\u001b[0m\u001b[0;34m(\u001b[0m\u001b[0mself\u001b[0m\u001b[0;34m,\u001b[0m \u001b[0mbd\u001b[0m\u001b[0;34m=\u001b[0m\u001b[0;36m1\u001b[0m\u001b[0;34m,\u001b[0m \u001b[0mrelief\u001b[0m\u001b[0;34m=\u001b[0m\u001b[0mRAISED\u001b[0m\u001b[0;34m)\u001b[0m\u001b[0;34m\u001b[0m\u001b[0;34m\u001b[0m\u001b[0m\n\u001b[0;32m---> 20\u001b[0;31m         \u001b[0mself\u001b[0m\u001b[0;34m.\u001b[0m\u001b[0mimg\u001b[0m \u001b[0;34m=\u001b[0m \u001b[0mImage\u001b[0m\u001b[0;34m.\u001b[0m\u001b[0mopen\u001b[0m\u001b[0;34m(\u001b[0m\u001b[0;34m\"/png/24/Modern3D/objects/exit.png\"\u001b[0m\u001b[0;34m)\u001b[0m\u001b[0;34m\u001b[0m\u001b[0;34m\u001b[0m\u001b[0m\n\u001b[0m\u001b[1;32m     21\u001b[0m         \u001b[0meimg\u001b[0m \u001b[0;34m=\u001b[0m \u001b[0mImageTk\u001b[0m\u001b[0;34m.\u001b[0m\u001b[0mPhotoImage\u001b[0m\u001b[0;34m(\u001b[0m\u001b[0mself\u001b[0m\u001b[0;34m.\u001b[0m\u001b[0mimg\u001b[0m\u001b[0;34m)\u001b[0m\u001b[0;34m\u001b[0m\u001b[0;34m\u001b[0m\u001b[0m\n\u001b[1;32m     22\u001b[0m         \u001b[0mexitButton\u001b[0m \u001b[0;34m=\u001b[0m \u001b[0mButton\u001b[0m\u001b[0;34m(\u001b[0m\u001b[0mtoolbar\u001b[0m\u001b[0;34m,\u001b[0m \u001b[0mimage\u001b[0m\u001b[0;34m=\u001b[0m\u001b[0meimg\u001b[0m\u001b[0;34m,\u001b[0m \u001b[0mrelief\u001b[0m\u001b[0;34m=\u001b[0m\u001b[0mFLAT\u001b[0m\u001b[0;34m,\u001b[0m\u001b[0mcommand\u001b[0m\u001b[0;34m=\u001b[0m\u001b[0mself\u001b[0m\u001b[0;34m.\u001b[0m\u001b[0mquit\u001b[0m\u001b[0;34m)\u001b[0m\u001b[0;34m\u001b[0m\u001b[0;34m\u001b[0m\u001b[0m\n",
      "\u001b[0;31mAttributeError\u001b[0m: type object 'Image' has no attribute 'open'"
     ]
    }
   ],
   "source": [
    "app = Prototype()\n",
    "app.sheet.headers((f\"{c}\" for c in insp.columns.values)) #any iterable works\n",
    "#app.sheet.insert_row(values = (f\"{c}\" for c in insp.columns.values), idx = 0)\n",
    "for ri in range(10):\n",
    "    app.sheet.insert_row(values = (f\"{c}\" for c in insp.iloc[ri, :]), idx = ri)\n",
    "#app.sheet.set_sheet_data([[f\"{str(cj)}\" for cj in insp.columns.values] for ri in range(1)])\n",
    "#app.sheet.set_sheet_data([[f\"{str(cj)}\" for cj in insp.iloc[ri, :]] for ri in range(10)])\n",
    "app.display_figure(fig)\n",
    "app.mainloop()"
   ]
  },
  {
   "cell_type": "code",
   "execution_count": null,
   "metadata": {},
   "outputs": [],
   "source": []
  }
 ],
 "metadata": {
  "kernelspec": {
   "display_name": "Python 3",
   "language": "python",
   "name": "python3"
  },
  "language_info": {
   "codemirror_mode": {
    "name": "ipython",
    "version": 3
   },
   "file_extension": ".py",
   "mimetype": "text/x-python",
   "name": "python",
   "nbconvert_exporter": "python",
   "pygments_lexer": "ipython3",
   "version": "3.8.3"
  }
 },
 "nbformat": 4,
 "nbformat_minor": 4
}
