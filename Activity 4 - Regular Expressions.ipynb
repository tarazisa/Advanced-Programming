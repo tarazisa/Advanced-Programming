{
 "cells": [
  {
   "cell_type": "code",
   "execution_count": 1,
   "metadata": {},
   "outputs": [],
   "source": [
    "import re"
   ]
  },
  {
   "cell_type": "code",
   "execution_count": 2,
   "metadata": {},
   "outputs": [],
   "source": [
    "text = \"\"\n",
    "try:\n",
    "    f = open(\"The_Raven.txt\",\"r\")\n",
    "    for line in f.readlines():\n",
    "        text += line\n",
    "    f.close()\n",
    "except Exceptions as e:\n",
    "    print(e)"
   ]
  },
  {
   "cell_type": "markdown",
   "metadata": {},
   "source": [
    "\n",
    "    Find the word ‘shrieked’\n",
    "    Find the word ‘bleak’\n",
    "    Count the number of words that contain ‘pp’\n",
    "    Change all the exclamations marks (!) to hash symbols (#)\n",
    "    Identify all the words that start with a ‘t” but do not end with an ‘e’, case should be ignored here.\n"
   ]
  },
  {
   "cell_type": "code",
   "execution_count": 3,
   "metadata": {},
   "outputs": [
    {
     "name": "stdout",
     "output_type": "stream",
     "text": [
      "Once upon a midnight dreary, while I\n",
      "\tpondered, weak and weary,\n",
      "Over many a quaint and curious volume of forgotten lore-\n",
      "While I nodded, nearly napping, suddenly\n",
      "\tthere came a tapping,\n",
      "As of some one gently rapping, rapping at my chamber door -\n",
      "'Tis some visitor,' I muttered, 'tapping at my chamber door -\n",
      "Only this and nothing more,'\n",
      "\n",
      "“Be that word our sign of parting, bird or\n",
      "\tfiend!” I shrieked, upstarting –\n",
      "“Get thee back into the tempest and the\n",
      "\tNight’s Plutonian shore!\n",
      "Leave no black plume as a token of that\n",
      "\tLie thy soul hath spoken!\n",
      "Leave my loneliness unbroken! – quit the bust above my door!\n",
      "Take thy beak from my heart, and take \n",
      "thy form from off my door!”\n",
      "\tQuoth the raven ‘Nevermore.’\n",
      "\n",
      "Exert form Edger Allen Poe's \"The Raven\".\n",
      "\n"
     ]
    }
   ],
   "source": [
    "print(text)"
   ]
  },
  {
   "cell_type": "code",
   "execution_count": 4,
   "metadata": {},
   "outputs": [
    {
     "name": "stdout",
     "output_type": "stream",
     "text": [
      "['shrieked']\n"
     ]
    }
   ],
   "source": [
    "pattern = re.compile('shrieked')\n",
    "print(pattern.findall(text))"
   ]
  },
  {
   "cell_type": "code",
   "execution_count": 5,
   "metadata": {},
   "outputs": [
    {
     "name": "stdout",
     "output_type": "stream",
     "text": [
      "[]\n"
     ]
    }
   ],
   "source": [
    "pattern = re.compile('bleak')\n",
    "print(pattern.findall(text))"
   ]
  },
  {
   "cell_type": "code",
   "execution_count": 6,
   "metadata": {},
   "outputs": [
    {
     "name": "stdout",
     "output_type": "stream",
     "text": [
      "5\n"
     ]
    }
   ],
   "source": [
    "pattern = re.compile('pp')\n",
    "print(len(pattern.findall(text)))"
   ]
  },
  {
   "cell_type": "code",
   "execution_count": 7,
   "metadata": {},
   "outputs": [
    {
     "name": "stdout",
     "output_type": "stream",
     "text": [
      "Once upon a midnight dreary, while I\n",
      "\tpondered, weak and weary,\n",
      "Over many a quaint and curious volume of forgotten lore-\n",
      "While I nodded, nearly napping, suddenly\n",
      "\tthere came a tapping,\n",
      "As of some one gently rapping, rapping at my chamber door -\n",
      "'Tis some visitor,' I muttered, 'tapping at my chamber door -\n",
      "Only this and nothing more,'\n",
      "\n",
      "“Be that word our sign of parting, bird or\n",
      "\tfiend#” I shrieked, upstarting –\n",
      "“Get thee back into the tempest and the\n",
      "\tNight’s Plutonian shore#\n",
      "Leave no black plume as a token of that\n",
      "\tLie thy soul hath spoken#\n",
      "Leave my loneliness unbroken# – quit the bust above my door#\n",
      "Take thy beak from my heart, and take \n",
      "thy form from off my door#”\n",
      "\tQuoth the raven ‘Nevermore.’\n",
      "\n",
      "Exert form Edger Allen Poe's \"The Raven\".\n",
      "\n"
     ]
    }
   ],
   "source": [
    "print(re.sub(\"!\", \"#\", text))"
   ]
  },
  {
   "cell_type": "code",
   "execution_count": 8,
   "metadata": {},
   "outputs": [
    {
     "name": "stdout",
     "output_type": "stream",
     "text": [
      "['tapping', 'Tis', 'tapping', 'this', 'that', 'tempest', 'token', 'that', 'thy', 'thy', 'thy']\n"
     ]
    }
   ],
   "source": [
    "print(re.findall(r'\\b[tT]\\w*[^eE\\s]\\b', text))"
   ]
  },
  {
   "cell_type": "code",
   "execution_count": null,
   "metadata": {},
   "outputs": [],
   "source": []
  }
 ],
 "metadata": {
  "kernelspec": {
   "display_name": "Python 3",
   "language": "python",
   "name": "python3"
  },
  "language_info": {
   "codemirror_mode": {
    "name": "ipython",
    "version": 3
   },
   "file_extension": ".py",
   "mimetype": "text/x-python",
   "name": "python",
   "nbconvert_exporter": "python",
   "pygments_lexer": "ipython3",
   "version": "3.8.3"
  }
 },
 "nbformat": 4,
 "nbformat_minor": 4
}
