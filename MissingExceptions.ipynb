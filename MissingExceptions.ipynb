{
 "cells": [
  {
   "cell_type": "markdown",
   "metadata": {},
   "source": [
    "This code needs correcting using try .. except\n",
    "\n",
    "Test this with the following pairs of values \n",
    "30 and 3, 5 and 45, 0 and 0, 'hit enter key' \n",
    "to find the type of error/s that are generated"
   ]
  },
  {
   "cell_type": "code",
   "execution_count": 16,
   "metadata": {},
   "outputs": [
    {
     "name": "stdout",
     "output_type": "stream",
     "text": [
      "Enter a number:0\n",
      "Enter another number:0\n",
      "Numbers entered cannot be zero..\n"
     ]
    }
   ],
   "source": [
    "try:\n",
    "    num1 = int(input(\"Enter a number:\" ))\n",
    "    num2 = int(input(\"Enter another number:\" ))\n",
    "    if num1 > num2:\n",
    "        if num1%num2 == 0:\n",
    "            print(num1, \" is a multiple of \", num2)\n",
    "    else:\n",
    "        if num2%num1 == 0:\n",
    "            print(num2, \" is a multiple of \", num1)\n",
    "except ZeroDivisionError:\n",
    "    print(\"Numbers entered cannot be zero..\")\n",
    "except ValueError:\n",
    "    print(\"Expecting integers as input...\")\n",
    "\n"
   ]
  },
  {
   "cell_type": "markdown",
   "metadata": {},
   "source": [
    "User input requires a list of space seperated words\n",
    "Create a small list to see what error is generated"
   ]
  },
  {
   "cell_type": "code",
   "execution_count": 21,
   "metadata": {},
   "outputs": [
    {
     "name": "stdout",
     "output_type": "stream",
     "text": [
      "List of names:\n",
      "Your index for your list is out of range\n"
     ]
    }
   ],
   "source": [
    "try:\n",
    "    names = input(\"List of names:\") \n",
    "    nameList = names.split()\n",
    "    print(nameList[1000])\n",
    "    \n",
    "except IndexError:\n",
    "    print(\"Your index for your list is out of range\")\n",
    "except LookupError:\n",
    "    print(\"Could not find element in your list\")\n"
   ]
  },
  {
   "cell_type": "markdown",
   "metadata": {},
   "source": [
    "This is an easy misatke to make by users"
   ]
  },
  {
   "cell_type": "code",
   "execution_count": 24,
   "metadata": {},
   "outputs": [
    {
     "name": "stdout",
     "output_type": "stream",
     "text": [
      "670\n",
      "530\n",
      "Expecting integers or numerical literals in your list, you provided   3O\n"
     ]
    }
   ],
   "source": [
    "randomList = ['67', 53, '3O',72, '10']\n",
    "try:\n",
    "    for i in randomList:\n",
    "      print(int(i) * 10)\n",
    "except ValueError:\n",
    "    print(\"Expecting integers or numerical literals in your list, you provided  \",str(i))"
   ]
  },
  {
   "cell_type": "markdown",
   "metadata": {},
   "source": [
    "validating user given file names, what can go wrong?"
   ]
  },
  {
   "cell_type": "code",
   "execution_count": 26,
   "metadata": {},
   "outputs": [
    {
     "name": "stdout",
     "output_type": "stream",
     "text": [
      "Enter File:j\n",
      "[Errno 2] No such file or directory: 'j'\n"
     ]
    }
   ],
   "source": [
    "try: \n",
    "    fileName = input(\"Enter File:\")\n",
    "    print(open(fileName).read())\n",
    "except Exception as e:\n",
    "    print(str(e))\n",
    "    "
   ]
  },
  {
   "cell_type": "code",
   "execution_count": null,
   "metadata": {},
   "outputs": [],
   "source": []
  }
 ],
 "metadata": {
  "kernelspec": {
   "display_name": "Python 3",
   "language": "python",
   "name": "python3"
  },
  "language_info": {
   "codemirror_mode": {
    "name": "ipython",
    "version": 3
   },
   "file_extension": ".py",
   "mimetype": "text/x-python",
   "name": "python",
   "nbconvert_exporter": "python",
   "pygments_lexer": "ipython3",
   "version": "3.8.3"
  }
 },
 "nbformat": 4,
 "nbformat_minor": 2
}
